{
 "cells": [
  {
   "cell_type": "markdown",
   "metadata": {},
   "source": [
    "# Convolutional Neural Network\n",
    "\n",
    "A convolutional neural network (CNN) is a a specific type of neural net that can be used to process data with a known, grid-like topology (e.g. 2D grid of pixel values). CNNs got popular due to their excellent performance in image recognition tasks. In this notebook, we will use a basic CNN to classify the MNIST dataset."
   ]
  },
  {
   "cell_type": "code",
   "execution_count": 1,
   "metadata": {},
   "outputs": [],
   "source": [
    "import torch\n",
    "import os\n",
    "import warnings\n",
    "\n",
    "import numpy as np\n",
    "import matplotlib.pyplot as plt\n",
    "import seaborn as sns\n",
    "import torch.nn as nn\n",
    "import torch.nn.functional as F\n",
    "import torch.optim as optim\n",
    "\n",
    "from mnist import MNIST\n",
    "\n",
    "warnings.simplefilter('ignore')\n",
    "% matplotlib inline"
   ]
  },
  {
   "cell_type": "markdown",
   "metadata": {},
   "source": [
    "## MNIST dataset\n",
    "\n",
    "The MNIST dataset contains handwritten digits and is available [here](http://yann.lecun.com/exdb/mnist/). To proceed you first have to download the training data and labels and the test data and labels. Next, unpack them into a folder named \"mnist\" in your home directory. To make the data extraction work, you will have to rename the dots to -, for example t10k-images.idx3-ubyte must be renamed to t10k-images-idx3-ubyte.\n",
    "\n",
    "To read the MNIST files we will use the [python mnist package](https://pypi.org/project/python-mnist/). You can install the package via\n",
    "\n",
    "```bash\n",
    "pip install python-mnist\n",
    "```\n",
    "\n",
    "Note: another convenient way to download and handle the MNIST dataset is using torchvision. Torchvision has data loaders for common datasets such as Imagenet, CIFAR10, etc. If you need an example on how to use torchvision look [here](https://pytorch.org/tutorials/beginner/blitz/cifar10_tutorial.html)."
   ]
  },
  {
   "cell_type": "code",
   "execution_count": 2,
   "metadata": {},
   "outputs": [
    {
     "name": "stdout",
     "output_type": "stream",
     "text": [
      "Training set shape: (60000, 784)\n",
      "Training labels shape: (60000,)\n",
      "Test set shape: (10000, 784)\n",
      "Test set shape: (10000,)\n"
     ]
    }
   ],
   "source": [
    "path_to_data = os.path.expanduser(\"~/mnist/\")\n",
    "mnist = MNIST(path_to_data)\n",
    "\n",
    "x_train, y_train = mnist.load_training()\n",
    "x_test, y_test = mnist.load_testing()\n",
    "\n",
    "x_train = np.array(x_train)\n",
    "y_train = np.array(y_train)\n",
    "x_test = np.array(x_test)\n",
    "y_test = np.array(y_test)\n",
    "\n",
    "print(f\"Training set shape: {x_train.shape}\")\n",
    "print(f\"Training labels shape: {y_train.shape}\")\n",
    "\n",
    "print(f\"Test set shape: {x_test.shape}\")\n",
    "print(f\"Test set shape: {y_test.shape}\")"
   ]
  },
  {
   "cell_type": "code",
   "execution_count": 3,
   "metadata": {},
   "outputs": [
    {
     "data": {
      "image/png": "[encoded data removed]",
      "text/plain": [
       "<Figure size 432x432 with 4 Axes>"
      ]
     },
     "metadata": {},
     "output_type": "display_data"
    }
   ],
   "source": [
    "fig = plt.figure(figsize=(6,6))\n",
    "\n",
    "for i in range(4):\n",
    "    ax = fig.add_subplot(2, 2, i + 1)\n",
    "    ax.imshow(np.reshape(x_train[i], (28, 28)), cmap='gray')"
   ]
  },
  {
   "cell_type": "markdown",
   "metadata": {},
   "source": [
    "## Convert data to torch tensors"
   ]
  },
  {
   "cell_type": "code",
   "execution_count": 4,
   "metadata": {},
   "outputs": [],
   "source": [
    "x_train_tensor = torch.from_numpy(x_train)\n",
    "x_test_tensor = torch.from_numpy(x_test)\n",
    "y_train_tensor = torch.from_numpy(y_train)\n",
    "y_test_tensor = torch.from_numpy(y_test)"
   ]
  },
  {
   "cell_type": "markdown",
   "metadata": {},
   "source": [
    "## CNN layers\n",
    "\n",
    "A convolutional neural network consists of a stack of layers. The most important layer types are: convolutional layer, pooling layer and fully connected layer. Typically, convolutional and pooling layers are used in an alternating fashion throughout the CNN. The final, fully connected layer is used to classify the extracted feature values into distinct classes.\n",
    "\n",
    "### Convolutional layer:\n",
    "\n",
    "A convolutional layer is a specific type of neural network layer that performs *convolutions* on an input image. The convolutions are performed by applying a certain number of convolutional filters (also called kernels) to the image. These filters are able to extract features from the input image (e.g. edges or lines). For each input region the kernel is applied to, a single value in the output feature map is produced. \n",
    "\n",
    "Detailed information about the functioning of convolutional layers and several illustrations can be found in the lecture notes of the [Stanford class on CNN's](http://cs231n.github.io/convolutional-networks/).\n",
    "\n",
    "\n",
    "**Output shape of a convolutional layer:**   \n",
    "To compute the output shape of a conv layer you need to know how a convolutional layer is structured. In summary (see Stanford class for details):\n",
    "\n",
    "A convolutional layer:\n",
    "- Accepts an input tensor of shape $W_1 \\times H_1 \\times D_1$ (width, height, depth)\n",
    "    - The depth describes the number of color channels. For example, for MNIST we have only 1 color channel (grayscale). Most images will be in RGB mode with 3 color channels (red, blue, green)\n",
    "     \n",
    "- Requires four hyperparameters:\n",
    "    - the number of filters $K$\n",
    "    - the shape / spacial extend of the filters $F$\n",
    "    - the stride $S$\n",
    "    - the amount of zero padding $P$   \n",
    "    common settings for padding are 'same' and 'valid'. 'same' means that the input will be padded with enough zeros to ensure that the output will have the same widht and height as the input. 'valid' means that no padding is used\n",
    "     \n",
    "- Produces an output tensor of shape  $W_2 \\times H_2 \\times D_2$\n",
    "    These shapes can be computed as follows:   \n",
    "    $W_2 = \\frac{W_1 - F + 2P}{S} + 1$   \n",
    "       \n",
    "    $H_2 = \\frac{H_1 - F + 2P}{S} + 1$\n",
    "   \n",
    "    $D_2 = K$\n",
    "\n",
    "\n",
    "**Example:**\n",
    "\n",
    "For MNIST, the input has shape $28 \\times 28 \\times 1$. In the first convolutional layer we will use $32$ filters with a kernel size of $5 \n",
    "\\times 5$. We will use \"same\" padding and a stride of $1$.\n",
    "\n",
    "Therefore, the output of the first convolutional layer will have the following shape: \n",
    "\n",
    "$W_2 = \\frac{28 - 5 + 2 * 0}{1} + 1 = 24$   \n",
    "       \n",
    "$H_2 = \\frac{28 - 5 + 2 * 0}{1} + 1 = 24$\n",
    "   \n",
    "$D_2 = K = 1$\n",
    "   \n",
    "    \n",
    "\n",
    "### Pooling layer:\n",
    "\n",
    "Pooling layers are used to reduce the dimensionality of the feature maps produced by convolutional layers. A pooling function replaces the output of a convolutional layer at a certain location with a summary statistic of the nearby outputs. For example, *max pooling* computes the *maximum* output value within a rectangular neighborhood.\n",
    "\n",
    "**Example**:\n",
    "\n",
    "![title](figures/max_pool.png)\n",
    "\n",
    "\n",
    "### Fully connected layer:\n",
    "\n",
    "The fully connected layers are used to classify the features extracted by the convolutional and pooling layers. "
   ]
  },
  {
   "cell_type": "markdown",
   "metadata": {},
   "source": [
    "## Network parameters"
   ]
  },
  {
   "cell_type": "code",
   "execution_count": 25,
   "metadata": {},
   "outputs": [],
   "source": [
    "batch_size = 100\n",
    "learning_rate = 0.001\n",
    "n_epochs = 10\n",
    "height = width = 28\n",
    "n_classes = 10\n",
    "\n",
    "n_train_samples = x_train.shape[0]\n",
    "n_test_samples = x_test.shape[0]\n",
    "\n",
    "n_train_batches = n_train_samples // batch_size\n",
    "n_test_batches = n_test_samples // batch_size"
   ]
  },
  {
   "cell_type": "markdown",
   "metadata": {},
   "source": [
    "## CNN network architecture\n",
    "\n",
    "Parts of this code were inspired by the official [Pytorch tutorial](https://pytorch.org/tutorials/beginner/blitz/neural_networks_tutorial.html)."
   ]
  },
  {
   "cell_type": "code",
   "execution_count": 26,
   "metadata": {},
   "outputs": [],
   "source": [
    "class CNN(nn.Module):\n",
    "    \n",
    "    def __init__(self):\n",
    "        super(CNN, self).__init__()\n",
    "        # 1 input image channel (= number of color channels)\n",
    "        # 32 filters/output channels\n",
    "        # kernel size 5x5\n",
    "        self.conv1 = nn.Conv2d(1, 32, kernel_size=5, stride=1, padding=2)\n",
    "        self.pool1 = nn.MaxPool2d(kernel_size=2, stride=2)\n",
    "        self.relu = nn.ReLU()\n",
    "        \n",
    "        self.conv2 = nn.Conv2d(32, 64, kernel_size=5, stride=1, padding=2)\n",
    "        self.pool2 = nn.MaxPool2d(kernel_size=2, stride=2)\n",
    "        \n",
    "        # Fully connected layer\n",
    "        self.fc = nn.Linear(7 * 7 * 64, n_classes)\n",
    "        \n",
    "    def forward(self, x):\n",
    "        # Max pooling with stride 2 and kernel size 2\n",
    "        out = self.pool1(self.relu(self.conv1(x)))\n",
    "        out = self.pool2(self.relu(self.conv2(out)))\n",
    "        \n",
    "        # Flatten the output\n",
    "        out = out.view(-1, 7 * 7 * 64)\n",
    "        out = self.fc(out)\n",
    "        return out"
   ]
  },
  {
   "cell_type": "code",
   "execution_count": 27,
   "metadata": {},
   "outputs": [
    {
     "name": "stdout",
     "output_type": "stream",
     "text": [
      "CNN(\n",
      "  (conv1): Conv2d(1, 32, kernel_size=(5, 5), stride=(1, 1), padding=(2, 2))\n",
      "  (pool1): MaxPool2d(kernel_size=2, stride=2, padding=0, dilation=1, ceil_mode=False)\n",
      "  (relu): ReLU()\n",
      "  (conv2): Conv2d(32, 64, kernel_size=(5, 5), stride=(1, 1), padding=(2, 2))\n",
      "  (pool2): MaxPool2d(kernel_size=2, stride=2, padding=0, dilation=1, ceil_mode=False)\n",
      "  (fc): Linear(in_features=3136, out_features=10, bias=True)\n",
      ")\n"
     ]
    }
   ],
   "source": [
    "cnn = CNN()\n",
    "criterion = nn.CrossEntropyLoss()\n",
    "optimizer = optim.Adam(cnn.parameters(), lr=learning_rate)\n",
    "\n",
    "print(cnn)"
   ]
  },
  {
   "cell_type": "markdown",
   "metadata": {},
   "source": [
    "## Training"
   ]
  },
  {
   "cell_type": "code",
   "execution_count": 28,
   "metadata": {},
   "outputs": [
    {
     "name": "stdout",
     "output_type": "stream",
     "text": [
      "\n",
      "Epoch: 0\n",
      "Current minibatch loss: 23.885\n",
      "Current minibatch loss: 0.177\n",
      "Current minibatch loss: 0.084\n",
      "\n",
      "Epoch: 1\n",
      "Current minibatch loss: 0.095\n",
      "Current minibatch loss: 0.076\n",
      "Current minibatch loss: 0.071\n",
      "\n",
      "Epoch: 2\n",
      "Current minibatch loss: 0.087\n",
      "Current minibatch loss: 0.049\n",
      "Current minibatch loss: 0.079\n",
      "\n",
      "Epoch: 3\n",
      "Current minibatch loss: 0.038\n",
      "Current minibatch loss: 0.020\n",
      "Current minibatch loss: 0.043\n",
      "\n",
      "Epoch: 4\n",
      "Current minibatch loss: 0.030\n",
      "Current minibatch loss: 0.033\n",
      "Current minibatch loss: 0.090\n",
      "\n",
      "Epoch: 5\n",
      "Current minibatch loss: 0.100\n",
      "Current minibatch loss: 0.032\n",
      "Current minibatch loss: 0.020\n",
      "\n",
      "Epoch: 6\n",
      "Current minibatch loss: 0.013\n",
      "Current minibatch loss: 0.025\n",
      "Current minibatch loss: 0.014\n",
      "\n",
      "Epoch: 7\n",
      "Current minibatch loss: 0.015\n",
      "Current minibatch loss: 0.010\n",
      "Current minibatch loss: 0.042\n",
      "\n",
      "Epoch: 8\n",
      "Current minibatch loss: 0.065\n",
      "Current minibatch loss: 0.053\n",
      "Current minibatch loss: 0.024\n",
      "\n",
      "Epoch: 9\n",
      "Current minibatch loss: 0.041\n",
      "Current minibatch loss: 0.012\n",
      "Current minibatch loss: 0.014\n",
      "\n",
      "Optimization done!\n"
     ]
    }
   ],
   "source": [
    "for epoch in range(n_epochs):\n",
    "\n",
    "    print()\n",
    "    print(f\"Epoch: {epoch}\")\n",
    "\n",
    "    running_loss = 0.0\n",
    "    \n",
    "    for i in range(n_train_batches):           \n",
    "        start = i * batch_size\n",
    "        end = (i + 1) * batch_size\n",
    "\n",
    "        x_batch = x_train_tensor[start:end]        \n",
    "        y_batch = y_train_tensor[start:end]\n",
    "        \n",
    "        # Reshape the tensors and adapt their types\n",
    "        x_batch = x_batch.view([batch_size, 1, height, width])\n",
    "        x_batch = x_batch.type(torch.FloatTensor)\n",
    "        y_batch = y_batch.type(torch.LongTensor)\n",
    "        \n",
    "        # zero the parameter gradients\n",
    "        optimizer.zero_grad()\n",
    "\n",
    "        # forward pass\n",
    "        outputs = cnn(x_batch)\n",
    "        loss = criterion(outputs, y_batch)\n",
    "        \n",
    "        # backward pass\n",
    "        loss.backward()\n",
    "        \n",
    "        # update step\n",
    "        optimizer.step()        \n",
    "        \n",
    "        if i % 200 == 0:\n",
    "            print(f\"Current minibatch loss: {loss.item():.3f}\")\n",
    "            \n",
    "print()\n",
    "print(f\"Optimization done!\")"
   ]
  },
  {
   "cell_type": "markdown",
   "metadata": {},
   "source": [
    "## Testing"
   ]
  },
  {
   "cell_type": "code",
   "execution_count": 31,
   "metadata": {},
   "outputs": [
    {
     "name": "stdout",
     "output_type": "stream",
     "text": [
      "Average loss on test set: 0.08207326166359451\n",
      "Accuracy on test set: 98%\n"
     ]
    }
   ],
   "source": [
    "losses = []\n",
    "acc = []\n",
    "\n",
    "for i in range(n_test_batches):\n",
    "\n",
    "    start = i * batch_size\n",
    "    end = (i + 1) * batch_size\n",
    "\n",
    "    x_test_batch = x_test_tensor[start:end]        \n",
    "    y_test_batch = y_test_tensor[start:end]\n",
    "    \n",
    "    x_test_batch = x_test_batch.view([batch_size, 1, height, width])\n",
    "    x_test_batch = x_test_batch.type(torch.FloatTensor)\n",
    "    y_test_batch = y_test_batch.type(torch.LongTensor)\n",
    "\n",
    "    outputs = cnn(x_test_batch)\n",
    "    loss = float(criterion(outputs, y_test_batch))\n",
    "\n",
    "    # compute accuracy\n",
    "    _, predicted = torch.max(outputs.data, 1)\n",
    "    equal = np.equal(predicted, y_test_batch).sum()\n",
    "    accuracy = int(equal) / batch_size\n",
    "\n",
    "    losses.append(loss)\n",
    "    acc.append(accuracy)\n",
    "\n",
    "print(f\"Average loss on test set: {np.mean(losses)}\")\n",
    "print(f\"Accuracy on test set: {int(np.mean(acc) * 100)}%\")"
   ]
  },
  {
   "cell_type": "code",
   "execution_count": null,
   "metadata": {},
   "outputs": [],
   "source": []
  }
 ],
 "metadata": {
  "kernelspec": {
   "display_name": "Python 3",
   "language": "python",
   "name": "python3"
  },
  "language_info": {
   "codemirror_mode": {
    "name": "ipython",
    "version": 3
   },
   "file_extension": ".py",
   "mimetype": "text/x-python",
   "name": "python",
   "nbconvert_exporter": "python",
   "pygments_lexer": "ipython3",
   "version": "3.6.5"
  }
 },
 "nbformat": 4,
 "nbformat_minor": 2
}
